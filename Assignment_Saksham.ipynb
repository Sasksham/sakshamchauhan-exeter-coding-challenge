{
 "cells": [
  {
   "cell_type": "code",
   "execution_count": 1,
   "metadata": {},
   "outputs": [
    {
     "name": "stdout",
     "output_type": "stream",
     "text": [
      "98.83203125\n",
      "--- 326.5389471054077 seconds ---\n"
     ]
    }
   ],
   "source": [
    "import time\n",
    "start_time = time.time()\n",
    "import pandas as pd\n",
    "import re\n",
    "import os, psutil\n",
    "def textConversion():\n",
    "    #-------Reading the text file-------------------------------------------------------\n",
    "    with open (\"t8.shakespeare.txt\", \"r+\") as myfile:\n",
    "        data = myfile.read().lower().strip()\n",
    "    b=\"\"\n",
    "    for i in data:\n",
    "        if i.isalnum() or i.isspace():\n",
    "            b+=i\n",
    "    #------Counting the occurence of the words-------------------------------------------\n",
    "    def word_count(str):\n",
    "        counts = dict()\n",
    "        words = str.split()\n",
    "        for word in words:\n",
    "            if word in counts:\n",
    "                counts[word] += 1\n",
    "            else:\n",
    "                counts[word] = 1\n",
    "        return counts\n",
    "    g=word_count(b)\n",
    "    #------Exporting the csv file containing the frequencies of different English words-----------\n",
    "    tyu=pd.read_csv('french_dictionary.csv',header=None)\n",
    "    tyu.rename(columns = {0:'English word',1:'French word'}, inplace = True)\n",
    "    y=[]\n",
    "    for i in tyu['English word']:\n",
    "        for j in g.keys():\n",
    "            if i == j:\n",
    "                y.append(g[i])\n",
    "    tyu['Frequency']=y\n",
    "    tyu.to_csv(\"frequency.csv\",index=False)\n",
    "    #------Replacing the English words with French Words-------------------------------------------\n",
    "    yp=b\n",
    "    for i in range(len(tyu['English word'])):\n",
    "        t=tyu['English word'][i]\n",
    "        o=tyu['French word'][i]\n",
    "        yp=re.sub(f\" {t} | {t}\\n | \\n{t} |\\n{t}\\n| \\n{t}\\n |\\n{t} | {t}\\n\",f\" {o} \",yp)\n",
    "    #-----Writing the converted text file-------------------------------------------------------------\n",
    "    with open('t8.shakespeare.translated.txt', 'w') as f:\n",
    "        f.write(yp)\n",
    "textConversion()\n",
    "#-----Checking the memory used and the time taken to process the code---------------------------------\n",
    "print(psutil.Process(os.getpid()).memory_info().rss / 1024 ** 2)\n",
    "print(\"--- %s seconds ---\" % (time.time() - start_time))"
   ]
  }
 ],
 "metadata": {
  "kernelspec": {
   "display_name": "Python 3",
   "language": "python",
   "name": "python3"
  },
  "language_info": {
   "codemirror_mode": {
    "name": "ipython",
    "version": 3
   },
   "file_extension": ".py",
   "mimetype": "text/x-python",
   "name": "python",
   "nbconvert_exporter": "python",
   "pygments_lexer": "ipython3",
   "version": "3.7.6"
  }
 },
 "nbformat": 4,
 "nbformat_minor": 4
}
